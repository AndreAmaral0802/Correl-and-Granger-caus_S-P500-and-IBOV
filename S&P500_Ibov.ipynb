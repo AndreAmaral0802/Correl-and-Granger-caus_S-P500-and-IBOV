{
 "cells": [
  {
   "cell_type": "markdown",
   "id": "901c62cb",
   "metadata": {},
   "source": [
    "# Correlation between S&P500 and Ibov\n",
    "\n",
    "### The idea is to test whether or not a deep crisis in the US stock market could spillover to Brazil stock market"
   ]
  },
  {
   "cell_type": "code",
   "execution_count": null,
   "id": "1dee5ab3",
   "metadata": {},
   "outputs": [],
   "source": []
  },
  {
   "cell_type": "code",
   "execution_count": 1,
   "id": "cedfbc29",
   "metadata": {},
   "outputs": [
    {
     "name": "stderr",
     "output_type": "stream",
     "text": [
      "C:\\Users\\andre\\anaconda3\\lib\\site-packages\\scipy\\__init__.py:146: UserWarning: A NumPy version >=1.16.5 and <1.23.0 is required for this version of SciPy (detected version 1.23.1\n",
      "  warnings.warn(f\"A NumPy version >={np_minversion} and <{np_maxversion}\"\n"
     ]
    }
   ],
   "source": [
    "import pandas as pd\n",
    "import numpy as np\n",
    "import matplotlib.pyplot as plt\n",
    "import seaborn as sns\n",
    "import yfinance as yf"
   ]
  },
  {
   "cell_type": "code",
   "execution_count": 2,
   "id": "5f5a544c",
   "metadata": {},
   "outputs": [],
   "source": [
    "#!pip install yfinance"
   ]
  },
  {
   "cell_type": "code",
   "execution_count": 15,
   "id": "7c82e3ad",
   "metadata": {},
   "outputs": [],
   "source": [
    "tickers = ['IVVB11.SA', 'BOVA11.SA']"
   ]
  },
  {
   "cell_type": "code",
   "execution_count": 41,
   "id": "13dcd2a0",
   "metadata": {},
   "outputs": [
    {
     "name": "stdout",
     "output_type": "stream",
     "text": [
      "[*********************100%***********************]  2 of 2 completed\n"
     ]
    }
   ],
   "source": [
    "data = yf.download(tickers, start='2020-03-01', end='2022-07-29', parse_dates=[\"Date\"])"
   ]
  },
  {
   "cell_type": "code",
   "execution_count": 42,
   "id": "1bd24683",
   "metadata": {
    "scrolled": true
   },
   "outputs": [
    {
     "data": {
      "text/html": [
       "<div>\n",
       "<style scoped>\n",
       "    .dataframe tbody tr th:only-of-type {\n",
       "        vertical-align: middle;\n",
       "    }\n",
       "\n",
       "    .dataframe tbody tr th {\n",
       "        vertical-align: top;\n",
       "    }\n",
       "\n",
       "    .dataframe thead tr th {\n",
       "        text-align: left;\n",
       "    }\n",
       "\n",
       "    .dataframe thead tr:last-of-type th {\n",
       "        text-align: right;\n",
       "    }\n",
       "</style>\n",
       "<table border=\"1\" class=\"dataframe\">\n",
       "  <thead>\n",
       "    <tr>\n",
       "      <th></th>\n",
       "      <th colspan=\"2\" halign=\"left\">Adj Close</th>\n",
       "      <th colspan=\"2\" halign=\"left\">Close</th>\n",
       "      <th colspan=\"2\" halign=\"left\">High</th>\n",
       "      <th colspan=\"2\" halign=\"left\">Low</th>\n",
       "      <th colspan=\"2\" halign=\"left\">Open</th>\n",
       "      <th colspan=\"2\" halign=\"left\">Volume</th>\n",
       "    </tr>\n",
       "    <tr>\n",
       "      <th></th>\n",
       "      <th>BOVA11.SA</th>\n",
       "      <th>IVVB11.SA</th>\n",
       "      <th>BOVA11.SA</th>\n",
       "      <th>IVVB11.SA</th>\n",
       "      <th>BOVA11.SA</th>\n",
       "      <th>IVVB11.SA</th>\n",
       "      <th>BOVA11.SA</th>\n",
       "      <th>IVVB11.SA</th>\n",
       "      <th>BOVA11.SA</th>\n",
       "      <th>IVVB11.SA</th>\n",
       "      <th>BOVA11.SA</th>\n",
       "      <th>IVVB11.SA</th>\n",
       "    </tr>\n",
       "    <tr>\n",
       "      <th>Date</th>\n",
       "      <th></th>\n",
       "      <th></th>\n",
       "      <th></th>\n",
       "      <th></th>\n",
       "      <th></th>\n",
       "      <th></th>\n",
       "      <th></th>\n",
       "      <th></th>\n",
       "      <th></th>\n",
       "      <th></th>\n",
       "      <th></th>\n",
       "      <th></th>\n",
       "    </tr>\n",
       "  </thead>\n",
       "  <tbody>\n",
       "    <tr>\n",
       "      <th>2020-03-02</th>\n",
       "      <td>102.989998</td>\n",
       "      <td>148.630005</td>\n",
       "      <td>102.989998</td>\n",
       "      <td>148.630005</td>\n",
       "      <td>103.379997</td>\n",
       "      <td>148.630005</td>\n",
       "      <td>99.900002</td>\n",
       "      <td>141.559998</td>\n",
       "      <td>100.849998</td>\n",
       "      <td>141.800003</td>\n",
       "      <td>9062780</td>\n",
       "      <td>679520</td>\n",
       "    </tr>\n",
       "    <tr>\n",
       "      <th>2020-03-03</th>\n",
       "      <td>101.750000</td>\n",
       "      <td>145.399994</td>\n",
       "      <td>101.750000</td>\n",
       "      <td>145.399994</td>\n",
       "      <td>105.269997</td>\n",
       "      <td>150.669998</td>\n",
       "      <td>100.500000</td>\n",
       "      <td>144.460007</td>\n",
       "      <td>102.959999</td>\n",
       "      <td>149.000000</td>\n",
       "      <td>14633620</td>\n",
       "      <td>651200</td>\n",
       "    </tr>\n",
       "    <tr>\n",
       "      <th>2020-03-04</th>\n",
       "      <td>103.099998</td>\n",
       "      <td>154.000000</td>\n",
       "      <td>103.099998</td>\n",
       "      <td>154.000000</td>\n",
       "      <td>103.989998</td>\n",
       "      <td>154.000000</td>\n",
       "      <td>101.099998</td>\n",
       "      <td>147.789993</td>\n",
       "      <td>103.989998</td>\n",
       "      <td>148.679993</td>\n",
       "      <td>8364790</td>\n",
       "      <td>653140</td>\n",
       "    </tr>\n",
       "    <tr>\n",
       "      <th>2020-03-05</th>\n",
       "      <td>98.790001</td>\n",
       "      <td>150.050003</td>\n",
       "      <td>98.790001</td>\n",
       "      <td>150.050003</td>\n",
       "      <td>102.099998</td>\n",
       "      <td>153.889999</td>\n",
       "      <td>96.769997</td>\n",
       "      <td>149.389999</td>\n",
       "      <td>102.000000</td>\n",
       "      <td>152.490005</td>\n",
       "      <td>10128930</td>\n",
       "      <td>318130</td>\n",
       "    </tr>\n",
       "    <tr>\n",
       "      <th>2020-03-06</th>\n",
       "      <td>94.400002</td>\n",
       "      <td>147.720001</td>\n",
       "      <td>94.400002</td>\n",
       "      <td>147.720001</td>\n",
       "      <td>95.839996</td>\n",
       "      <td>147.880005</td>\n",
       "      <td>93.320000</td>\n",
       "      <td>144.360001</td>\n",
       "      <td>94.820000</td>\n",
       "      <td>146.179993</td>\n",
       "      <td>25135520</td>\n",
       "      <td>386670</td>\n",
       "    </tr>\n",
       "    <tr>\n",
       "      <th>...</th>\n",
       "      <td>...</td>\n",
       "      <td>...</td>\n",
       "      <td>...</td>\n",
       "      <td>...</td>\n",
       "      <td>...</td>\n",
       "      <td>...</td>\n",
       "      <td>...</td>\n",
       "      <td>...</td>\n",
       "      <td>...</td>\n",
       "      <td>...</td>\n",
       "      <td>...</td>\n",
       "      <td>...</td>\n",
       "    </tr>\n",
       "    <tr>\n",
       "      <th>2022-07-22</th>\n",
       "      <td>95.419998</td>\n",
       "      <td>238.839996</td>\n",
       "      <td>95.419998</td>\n",
       "      <td>238.839996</td>\n",
       "      <td>96.160004</td>\n",
       "      <td>239.229996</td>\n",
       "      <td>94.820000</td>\n",
       "      <td>236.419998</td>\n",
       "      <td>95.790001</td>\n",
       "      <td>238.979996</td>\n",
       "      <td>5037163</td>\n",
       "      <td>294860</td>\n",
       "    </tr>\n",
       "    <tr>\n",
       "      <th>2022-07-25</th>\n",
       "      <td>96.750000</td>\n",
       "      <td>233.750000</td>\n",
       "      <td>96.750000</td>\n",
       "      <td>233.750000</td>\n",
       "      <td>96.930000</td>\n",
       "      <td>236.869995</td>\n",
       "      <td>96.029999</td>\n",
       "      <td>232.070007</td>\n",
       "      <td>96.309998</td>\n",
       "      <td>236.869995</td>\n",
       "      <td>4192244</td>\n",
       "      <td>263109</td>\n",
       "    </tr>\n",
       "    <tr>\n",
       "      <th>2022-07-26</th>\n",
       "      <td>96.150002</td>\n",
       "      <td>230.500000</td>\n",
       "      <td>96.150002</td>\n",
       "      <td>230.500000</td>\n",
       "      <td>97.160004</td>\n",
       "      <td>233.050003</td>\n",
       "      <td>95.849998</td>\n",
       "      <td>229.300003</td>\n",
       "      <td>96.879997</td>\n",
       "      <td>232.509995</td>\n",
       "      <td>4780077</td>\n",
       "      <td>349530</td>\n",
       "    </tr>\n",
       "    <tr>\n",
       "      <th>2022-07-27</th>\n",
       "      <td>97.830002</td>\n",
       "      <td>231.649994</td>\n",
       "      <td>97.830002</td>\n",
       "      <td>231.649994</td>\n",
       "      <td>97.940002</td>\n",
       "      <td>232.809998</td>\n",
       "      <td>96.459999</td>\n",
       "      <td>229.059998</td>\n",
       "      <td>96.769997</td>\n",
       "      <td>230.520004</td>\n",
       "      <td>4846166</td>\n",
       "      <td>478061</td>\n",
       "    </tr>\n",
       "    <tr>\n",
       "      <th>2022-07-28</th>\n",
       "      <td>99.099998</td>\n",
       "      <td>230.800003</td>\n",
       "      <td>99.099998</td>\n",
       "      <td>230.800003</td>\n",
       "      <td>99.099998</td>\n",
       "      <td>233.570007</td>\n",
       "      <td>97.419998</td>\n",
       "      <td>227.550003</td>\n",
       "      <td>98.010002</td>\n",
       "      <td>229.419998</td>\n",
       "      <td>6764647</td>\n",
       "      <td>387696</td>\n",
       "    </tr>\n",
       "  </tbody>\n",
       "</table>\n",
       "<p>599 rows × 12 columns</p>\n",
       "</div>"
      ],
      "text/plain": [
       "             Adj Close                   Close                    High  \\\n",
       "             BOVA11.SA   IVVB11.SA   BOVA11.SA   IVVB11.SA   BOVA11.SA   \n",
       "Date                                                                     \n",
       "2020-03-02  102.989998  148.630005  102.989998  148.630005  103.379997   \n",
       "2020-03-03  101.750000  145.399994  101.750000  145.399994  105.269997   \n",
       "2020-03-04  103.099998  154.000000  103.099998  154.000000  103.989998   \n",
       "2020-03-05   98.790001  150.050003   98.790001  150.050003  102.099998   \n",
       "2020-03-06   94.400002  147.720001   94.400002  147.720001   95.839996   \n",
       "...                ...         ...         ...         ...         ...   \n",
       "2022-07-22   95.419998  238.839996   95.419998  238.839996   96.160004   \n",
       "2022-07-25   96.750000  233.750000   96.750000  233.750000   96.930000   \n",
       "2022-07-26   96.150002  230.500000   96.150002  230.500000   97.160004   \n",
       "2022-07-27   97.830002  231.649994   97.830002  231.649994   97.940002   \n",
       "2022-07-28   99.099998  230.800003   99.099998  230.800003   99.099998   \n",
       "\n",
       "                               Low                    Open              \\\n",
       "             IVVB11.SA   BOVA11.SA   IVVB11.SA   BOVA11.SA   IVVB11.SA   \n",
       "Date                                                                     \n",
       "2020-03-02  148.630005   99.900002  141.559998  100.849998  141.800003   \n",
       "2020-03-03  150.669998  100.500000  144.460007  102.959999  149.000000   \n",
       "2020-03-04  154.000000  101.099998  147.789993  103.989998  148.679993   \n",
       "2020-03-05  153.889999   96.769997  149.389999  102.000000  152.490005   \n",
       "2020-03-06  147.880005   93.320000  144.360001   94.820000  146.179993   \n",
       "...                ...         ...         ...         ...         ...   \n",
       "2022-07-22  239.229996   94.820000  236.419998   95.790001  238.979996   \n",
       "2022-07-25  236.869995   96.029999  232.070007   96.309998  236.869995   \n",
       "2022-07-26  233.050003   95.849998  229.300003   96.879997  232.509995   \n",
       "2022-07-27  232.809998   96.459999  229.059998   96.769997  230.520004   \n",
       "2022-07-28  233.570007   97.419998  227.550003   98.010002  229.419998   \n",
       "\n",
       "              Volume            \n",
       "           BOVA11.SA IVVB11.SA  \n",
       "Date                            \n",
       "2020-03-02   9062780    679520  \n",
       "2020-03-03  14633620    651200  \n",
       "2020-03-04   8364790    653140  \n",
       "2020-03-05  10128930    318130  \n",
       "2020-03-06  25135520    386670  \n",
       "...              ...       ...  \n",
       "2022-07-22   5037163    294860  \n",
       "2022-07-25   4192244    263109  \n",
       "2022-07-26   4780077    349530  \n",
       "2022-07-27   4846166    478061  \n",
       "2022-07-28   6764647    387696  \n",
       "\n",
       "[599 rows x 12 columns]"
      ]
     },
     "execution_count": 42,
     "metadata": {},
     "output_type": "execute_result"
    }
   ],
   "source": [
    "data"
   ]
  },
  {
   "cell_type": "markdown",
   "id": "d2622336",
   "metadata": {},
   "source": [
    "## Cleaning and Preparation "
   ]
  },
  {
   "cell_type": "code",
   "execution_count": 43,
   "id": "914b47d6",
   "metadata": {},
   "outputs": [
    {
     "name": "stdout",
     "output_type": "stream",
     "text": [
      "<class 'pandas.core.frame.DataFrame'>\n",
      "DatetimeIndex: 599 entries, 2020-03-02 to 2022-07-28\n",
      "Data columns (total 12 columns):\n",
      " #   Column                  Non-Null Count  Dtype  \n",
      "---  ------                  --------------  -----  \n",
      " 0   (Adj Close, BOVA11.SA)  599 non-null    float64\n",
      " 1   (Adj Close, IVVB11.SA)  599 non-null    float64\n",
      " 2   (Close, BOVA11.SA)      599 non-null    float64\n",
      " 3   (Close, IVVB11.SA)      599 non-null    float64\n",
      " 4   (High, BOVA11.SA)       599 non-null    float64\n",
      " 5   (High, IVVB11.SA)       599 non-null    float64\n",
      " 6   (Low, BOVA11.SA)        599 non-null    float64\n",
      " 7   (Low, IVVB11.SA)        599 non-null    float64\n",
      " 8   (Open, BOVA11.SA)       599 non-null    float64\n",
      " 9   (Open, IVVB11.SA)       599 non-null    float64\n",
      " 10  (Volume, BOVA11.SA)     599 non-null    int64  \n",
      " 11  (Volume, IVVB11.SA)     599 non-null    int64  \n",
      "dtypes: float64(10), int64(2)\n",
      "memory usage: 60.8 KB\n"
     ]
    }
   ],
   "source": [
    "# Let's get more information about the data\n",
    "data.info()"
   ]
  },
  {
   "cell_type": "code",
   "execution_count": 44,
   "id": "7d67724d",
   "metadata": {},
   "outputs": [
    {
     "data": {
      "text/html": [
       "<div>\n",
       "<style scoped>\n",
       "    .dataframe tbody tr th:only-of-type {\n",
       "        vertical-align: middle;\n",
       "    }\n",
       "\n",
       "    .dataframe tbody tr th {\n",
       "        vertical-align: top;\n",
       "    }\n",
       "\n",
       "    .dataframe thead th {\n",
       "        text-align: right;\n",
       "    }\n",
       "</style>\n",
       "<table border=\"1\" class=\"dataframe\">\n",
       "  <thead>\n",
       "    <tr style=\"text-align: right;\">\n",
       "      <th></th>\n",
       "      <th>BOVA11.SA</th>\n",
       "      <th>IVVB11.SA</th>\n",
       "    </tr>\n",
       "  </thead>\n",
       "  <tbody>\n",
       "    <tr>\n",
       "      <th>count</th>\n",
       "      <td>599.000000</td>\n",
       "      <td>599.000000</td>\n",
       "    </tr>\n",
       "    <tr>\n",
       "      <th>mean</th>\n",
       "      <td>103.431924</td>\n",
       "      <td>224.347930</td>\n",
       "    </tr>\n",
       "    <tr>\n",
       "      <th>std</th>\n",
       "      <td>12.694129</td>\n",
       "      <td>36.408920</td>\n",
       "    </tr>\n",
       "    <tr>\n",
       "      <th>min</th>\n",
       "      <td>61.139999</td>\n",
       "      <td>124.000000</td>\n",
       "    </tr>\n",
       "    <tr>\n",
       "      <th>25%</th>\n",
       "      <td>96.660000</td>\n",
       "      <td>204.449997</td>\n",
       "    </tr>\n",
       "    <tr>\n",
       "      <th>50%</th>\n",
       "      <td>104.900002</td>\n",
       "      <td>228.470001</td>\n",
       "    </tr>\n",
       "    <tr>\n",
       "      <th>75%</th>\n",
       "      <td>113.061768</td>\n",
       "      <td>248.964996</td>\n",
       "    </tr>\n",
       "    <tr>\n",
       "      <th>max</th>\n",
       "      <td>125.750000</td>\n",
       "      <td>297.750000</td>\n",
       "    </tr>\n",
       "  </tbody>\n",
       "</table>\n",
       "</div>"
      ],
      "text/plain": [
       "        BOVA11.SA   IVVB11.SA\n",
       "count  599.000000  599.000000\n",
       "mean   103.431924  224.347930\n",
       "std     12.694129   36.408920\n",
       "min     61.139999  124.000000\n",
       "25%     96.660000  204.449997\n",
       "50%    104.900002  228.470001\n",
       "75%    113.061768  248.964996\n",
       "max    125.750000  297.750000"
      ]
     },
     "execution_count": 44,
     "metadata": {},
     "output_type": "execute_result"
    }
   ],
   "source": [
    "data['Close'].describe()"
   ]
  },
  {
   "cell_type": "code",
   "execution_count": 45,
   "id": "c0299c53",
   "metadata": {},
   "outputs": [
    {
     "data": {
      "text/plain": [
       "Adj Close  BOVA11.SA    0\n",
       "           IVVB11.SA    0\n",
       "Close      BOVA11.SA    0\n",
       "           IVVB11.SA    0\n",
       "High       BOVA11.SA    0\n",
       "           IVVB11.SA    0\n",
       "Low        BOVA11.SA    0\n",
       "           IVVB11.SA    0\n",
       "Open       BOVA11.SA    0\n",
       "           IVVB11.SA    0\n",
       "Volume     BOVA11.SA    0\n",
       "           IVVB11.SA    0\n",
       "dtype: int64"
      ]
     },
     "execution_count": 45,
     "metadata": {},
     "output_type": "execute_result"
    }
   ],
   "source": [
    "# Finding missing values\n",
    "data.isna().sum().sort_values(ascending=False)"
   ]
  },
  {
   "cell_type": "code",
   "execution_count": 46,
   "id": "ae598cf2",
   "metadata": {},
   "outputs": [
    {
     "data": {
      "text/plain": [
       "Adj Close  BOVA11.SA    0.0\n",
       "           IVVB11.SA    0.0\n",
       "Close      BOVA11.SA    0.0\n",
       "           IVVB11.SA    0.0\n",
       "High       BOVA11.SA    0.0\n",
       "           IVVB11.SA    0.0\n",
       "Low        BOVA11.SA    0.0\n",
       "           IVVB11.SA    0.0\n",
       "Open       BOVA11.SA    0.0\n",
       "           IVVB11.SA    0.0\n",
       "Volume     BOVA11.SA    0.0\n",
       "           IVVB11.SA    0.0\n",
       "dtype: float64"
      ]
     },
     "execution_count": 46,
     "metadata": {},
     "output_type": "execute_result"
    }
   ],
   "source": [
    "# Let's get these numbers as a percentage of the total\n",
    "miss_per = data.isna().sum().sort_values(ascending=False) / len(data) * 100\n",
    "\n",
    "miss_per"
   ]
  },
  {
   "cell_type": "code",
   "execution_count": 47,
   "id": "7fc6f2cb",
   "metadata": {},
   "outputs": [],
   "source": [
    "data_1 = data.dropna()"
   ]
  },
  {
   "cell_type": "code",
   "execution_count": 48,
   "id": "5f575cfc",
   "metadata": {},
   "outputs": [
    {
     "name": "stdout",
     "output_type": "stream",
     "text": [
      "<class 'pandas.core.frame.DataFrame'>\n",
      "DatetimeIndex: 599 entries, 2020-03-02 to 2022-07-28\n",
      "Data columns (total 12 columns):\n",
      " #   Column                  Non-Null Count  Dtype  \n",
      "---  ------                  --------------  -----  \n",
      " 0   (Adj Close, BOVA11.SA)  599 non-null    float64\n",
      " 1   (Adj Close, IVVB11.SA)  599 non-null    float64\n",
      " 2   (Close, BOVA11.SA)      599 non-null    float64\n",
      " 3   (Close, IVVB11.SA)      599 non-null    float64\n",
      " 4   (High, BOVA11.SA)       599 non-null    float64\n",
      " 5   (High, IVVB11.SA)       599 non-null    float64\n",
      " 6   (Low, BOVA11.SA)        599 non-null    float64\n",
      " 7   (Low, IVVB11.SA)        599 non-null    float64\n",
      " 8   (Open, BOVA11.SA)       599 non-null    float64\n",
      " 9   (Open, IVVB11.SA)       599 non-null    float64\n",
      " 10  (Volume, BOVA11.SA)     599 non-null    int64  \n",
      " 11  (Volume, IVVB11.SA)     599 non-null    int64  \n",
      "dtypes: float64(10), int64(2)\n",
      "memory usage: 60.8 KB\n"
     ]
    }
   ],
   "source": [
    "data_1.info()"
   ]
  },
  {
   "cell_type": "code",
   "execution_count": 49,
   "id": "f60fbcb5",
   "metadata": {},
   "outputs": [
    {
     "data": {
      "text/html": [
       "<div>\n",
       "<style scoped>\n",
       "    .dataframe tbody tr th:only-of-type {\n",
       "        vertical-align: middle;\n",
       "    }\n",
       "\n",
       "    .dataframe tbody tr th {\n",
       "        vertical-align: top;\n",
       "    }\n",
       "\n",
       "    .dataframe thead th {\n",
       "        text-align: right;\n",
       "    }\n",
       "</style>\n",
       "<table border=\"1\" class=\"dataframe\">\n",
       "  <thead>\n",
       "    <tr style=\"text-align: right;\">\n",
       "      <th></th>\n",
       "      <th>BOVA11.SA</th>\n",
       "      <th>IVVB11.SA</th>\n",
       "    </tr>\n",
       "    <tr>\n",
       "      <th>Date</th>\n",
       "      <th></th>\n",
       "      <th></th>\n",
       "    </tr>\n",
       "  </thead>\n",
       "  <tbody>\n",
       "    <tr>\n",
       "      <th>2020-03-02</th>\n",
       "      <td>102.989998</td>\n",
       "      <td>148.630005</td>\n",
       "    </tr>\n",
       "    <tr>\n",
       "      <th>2020-03-03</th>\n",
       "      <td>101.750000</td>\n",
       "      <td>145.399994</td>\n",
       "    </tr>\n",
       "    <tr>\n",
       "      <th>2020-03-04</th>\n",
       "      <td>103.099998</td>\n",
       "      <td>154.000000</td>\n",
       "    </tr>\n",
       "    <tr>\n",
       "      <th>2020-03-05</th>\n",
       "      <td>98.790001</td>\n",
       "      <td>150.050003</td>\n",
       "    </tr>\n",
       "    <tr>\n",
       "      <th>2020-03-06</th>\n",
       "      <td>94.400002</td>\n",
       "      <td>147.720001</td>\n",
       "    </tr>\n",
       "    <tr>\n",
       "      <th>...</th>\n",
       "      <td>...</td>\n",
       "      <td>...</td>\n",
       "    </tr>\n",
       "    <tr>\n",
       "      <th>2022-07-22</th>\n",
       "      <td>95.419998</td>\n",
       "      <td>238.839996</td>\n",
       "    </tr>\n",
       "    <tr>\n",
       "      <th>2022-07-25</th>\n",
       "      <td>96.750000</td>\n",
       "      <td>233.750000</td>\n",
       "    </tr>\n",
       "    <tr>\n",
       "      <th>2022-07-26</th>\n",
       "      <td>96.150002</td>\n",
       "      <td>230.500000</td>\n",
       "    </tr>\n",
       "    <tr>\n",
       "      <th>2022-07-27</th>\n",
       "      <td>97.830002</td>\n",
       "      <td>231.649994</td>\n",
       "    </tr>\n",
       "    <tr>\n",
       "      <th>2022-07-28</th>\n",
       "      <td>99.099998</td>\n",
       "      <td>230.800003</td>\n",
       "    </tr>\n",
       "  </tbody>\n",
       "</table>\n",
       "<p>599 rows × 2 columns</p>\n",
       "</div>"
      ],
      "text/plain": [
       "             BOVA11.SA   IVVB11.SA\n",
       "Date                              \n",
       "2020-03-02  102.989998  148.630005\n",
       "2020-03-03  101.750000  145.399994\n",
       "2020-03-04  103.099998  154.000000\n",
       "2020-03-05   98.790001  150.050003\n",
       "2020-03-06   94.400002  147.720001\n",
       "...                ...         ...\n",
       "2022-07-22   95.419998  238.839996\n",
       "2022-07-25   96.750000  233.750000\n",
       "2022-07-26   96.150002  230.500000\n",
       "2022-07-27   97.830002  231.649994\n",
       "2022-07-28   99.099998  230.800003\n",
       "\n",
       "[599 rows x 2 columns]"
      ]
     },
     "execution_count": 49,
     "metadata": {},
     "output_type": "execute_result"
    }
   ],
   "source": [
    "Close_Price = data_1['Close']\n",
    "Close_Price"
   ]
  },
  {
   "cell_type": "code",
   "execution_count": 50,
   "id": "d95d66d3",
   "metadata": {},
   "outputs": [
    {
     "data": {
      "text/html": [
       "<div>\n",
       "<style scoped>\n",
       "    .dataframe tbody tr th:only-of-type {\n",
       "        vertical-align: middle;\n",
       "    }\n",
       "\n",
       "    .dataframe tbody tr th {\n",
       "        vertical-align: top;\n",
       "    }\n",
       "\n",
       "    .dataframe thead th {\n",
       "        text-align: right;\n",
       "    }\n",
       "</style>\n",
       "<table border=\"1\" class=\"dataframe\">\n",
       "  <thead>\n",
       "    <tr style=\"text-align: right;\">\n",
       "      <th></th>\n",
       "      <th>BOVA11.SA</th>\n",
       "      <th>IVVB11.SA</th>\n",
       "    </tr>\n",
       "  </thead>\n",
       "  <tbody>\n",
       "    <tr>\n",
       "      <th>count</th>\n",
       "      <td>599.000000</td>\n",
       "      <td>599.000000</td>\n",
       "    </tr>\n",
       "    <tr>\n",
       "      <th>mean</th>\n",
       "      <td>103.431924</td>\n",
       "      <td>224.347930</td>\n",
       "    </tr>\n",
       "    <tr>\n",
       "      <th>std</th>\n",
       "      <td>12.694129</td>\n",
       "      <td>36.408920</td>\n",
       "    </tr>\n",
       "    <tr>\n",
       "      <th>min</th>\n",
       "      <td>61.139999</td>\n",
       "      <td>124.000000</td>\n",
       "    </tr>\n",
       "    <tr>\n",
       "      <th>25%</th>\n",
       "      <td>96.660000</td>\n",
       "      <td>204.449997</td>\n",
       "    </tr>\n",
       "    <tr>\n",
       "      <th>50%</th>\n",
       "      <td>104.900002</td>\n",
       "      <td>228.470001</td>\n",
       "    </tr>\n",
       "    <tr>\n",
       "      <th>75%</th>\n",
       "      <td>113.061768</td>\n",
       "      <td>248.964996</td>\n",
       "    </tr>\n",
       "    <tr>\n",
       "      <th>max</th>\n",
       "      <td>125.750000</td>\n",
       "      <td>297.750000</td>\n",
       "    </tr>\n",
       "  </tbody>\n",
       "</table>\n",
       "</div>"
      ],
      "text/plain": [
       "        BOVA11.SA   IVVB11.SA\n",
       "count  599.000000  599.000000\n",
       "mean   103.431924  224.347930\n",
       "std     12.694129   36.408920\n",
       "min     61.139999  124.000000\n",
       "25%     96.660000  204.449997\n",
       "50%    104.900002  228.470001\n",
       "75%    113.061768  248.964996\n",
       "max    125.750000  297.750000"
      ]
     },
     "execution_count": 50,
     "metadata": {},
     "output_type": "execute_result"
    }
   ],
   "source": [
    "Close_Price.describe()"
   ]
  },
  {
   "cell_type": "code",
   "execution_count": 51,
   "id": "2c3500c2",
   "metadata": {},
   "outputs": [
    {
     "data": {
      "image/png": "[encoded data removed]",
      "text/plain": [
       "<Figure size 1008x360 with 1 Axes>"
      ]
     },
     "metadata": {
      "needs_background": "light"
     },
     "output_type": "display_data"
    }
   ],
   "source": [
    "plt.figure(figsize=(14,5))\n",
    "plt.plot(Close_Price['BOVA11.SA'], color = 'red', label = 'BOVA')\n",
    "plt.plot(Close_Price['IVVB11.SA'], color = 'blue', label = 'S&P500')\n",
    "plt.title('Ibov x S&P500')\n",
    "plt.xlabel('Date')\n",
    "plt.ylabel('Quotation')\n",
    "plt.legend()\n",
    "plt.show()"
   ]
  },
  {
   "cell_type": "code",
   "execution_count": 39,
   "id": "9d375123",
   "metadata": {},
   "outputs": [
    {
     "data": {
      "text/plain": [
       "BOVA11.SA    0\n",
       "IVVB11.SA    0\n",
       "dtype: int64"
      ]
     },
     "execution_count": 39,
     "metadata": {},
     "output_type": "execute_result"
    }
   ],
   "source": [
    "Close_Price.isna().sum().sort_values(ascending=False)"
   ]
  },
  {
   "cell_type": "code",
   "execution_count": 52,
   "id": "bc5c36a9",
   "metadata": {},
   "outputs": [
    {
     "data": {
      "text/plain": [
       "0.6237081927032776"
      ]
     },
     "execution_count": 52,
     "metadata": {},
     "output_type": "execute_result"
    }
   ],
   "source": [
    "Close_Price['BOVA11.SA'].corr(Close_Price['IVVB11.SA'])"
   ]
  },
  {
   "cell_type": "code",
   "execution_count": null,
   "id": "a1192756",
   "metadata": {},
   "outputs": [],
   "source": [
    "# There is a moderate correlation between the S&P500 and the Ibovespa "
   ]
  },
  {
   "cell_type": "markdown",
   "id": "756df696",
   "metadata": {},
   "source": [
    "## Granger Causality test"
   ]
  },
  {
   "cell_type": "code",
   "execution_count": 56,
   "id": "246a07e6",
   "metadata": {},
   "outputs": [
    {
     "name": "stdout",
     "output_type": "stream",
     "text": [
      "\n",
      "Granger Causality\n",
      "number of lags (no zero) 1\n",
      "ssr based F test:         F=3.9306  , p=0.0479  , df_denom=595, df_num=1\n",
      "ssr based chi2 test:   chi2=3.9505  , p=0.0469  , df=1\n",
      "likelihood ratio test: chi2=3.9375  , p=0.0472  , df=1\n",
      "parameter F test:         F=3.9306  , p=0.0479  , df_denom=595, df_num=1\n"
     ]
    },
    {
     "data": {
      "text/plain": [
       "{1: ({'ssr_ftest': (3.9306476810698667, 0.04787317931900441, 595.0, 1),\n",
       "   'ssr_chi2test': (3.9504660727391268, 0.046858387937486444, 1),\n",
       "   'lrtest': (3.9374746095686532, 0.04722161678448276, 1),\n",
       "   'params_ftest': (3.930647681062539, 0.04787317931921257, 595.0, 1.0)},\n",
       "  [<statsmodels.regression.linear_model.RegressionResultsWrapper at 0x12868728970>,\n",
       "   <statsmodels.regression.linear_model.RegressionResultsWrapper at 0x12868d61820>,\n",
       "   array([[0., 1., 0.]])])}"
      ]
     },
     "execution_count": 56,
     "metadata": {},
     "output_type": "execute_result"
    }
   ],
   "source": [
    "from statsmodels.tsa.stattools import grangercausalitytests\n",
    "\n",
    "#perform Granger-Causality test\n",
    "grangercausalitytests(Close_Price[['BOVA11.SA', 'IVVB11.SA']], maxlag=[1])"
   ]
  },
  {
   "cell_type": "code",
   "execution_count": 58,
   "id": "abc85ea3",
   "metadata": {},
   "outputs": [],
   "source": [
    "# According to Granger causality test we can reject the H0 in favour of HI with 95% of confidence level\n",
    "\n",
    "# H0 = Time series S&P500 does not Granger-cause time series Ibovespa\n",
    "# HI = Time series S&P500 Granger-causes time series Ibovespa\n",
    "\n"
   ]
  },
  {
   "cell_type": "code",
   "execution_count": null,
   "id": "366f9ee8",
   "metadata": {},
   "outputs": [],
   "source": []
  },
  {
   "cell_type": "code",
   "execution_count": null,
   "id": "f535162d",
   "metadata": {},
   "outputs": [],
   "source": []
  }
 ],
 "metadata": {
  "kernelspec": {
   "display_name": "Python 3 (ipykernel)",
   "language": "python",
   "name": "python3"
  },
  "language_info": {
   "codemirror_mode": {
    "name": "ipython",
    "version": 3
   },
   "file_extension": ".py",
   "mimetype": "text/x-python",
   "name": "python",
   "nbconvert_exporter": "python",
   "pygments_lexer": "ipython3",
   "version": "3.9.12"
  }
 },
 "nbformat": 4,
 "nbformat_minor": 5
}
